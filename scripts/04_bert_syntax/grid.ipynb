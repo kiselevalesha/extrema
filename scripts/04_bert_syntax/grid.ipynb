{
 "cells": [
  {
   "cell_type": "code",
   "execution_count": 2,
   "metadata": {},
   "outputs": [],
   "source": [
    "# %run -n main.py\n",
    "# seed(1)\n",
    "# env = dict(environ)\n",
    "# for index in range(100):\n",
    "#     seed_ = str(randint(0, 100))\n",
    "#     bert_lr = '%.7f' % (10 ** uniform(-6, -3))\n",
    "#     lr = '%.5f' % (10 ** uniform(-4, -2))\n",
    "#     lr_gamma = '%.2f' % uniform(0.1, 0.9)\n",
    "#     board_name = f'{index:03d} {seed_} {bert_lr} {lr} {lr_gamma}'\n",
    "#     env.update(\n",
    "#         seed=seed_,\n",
    "#         bert_lr=bert_lr,\n",
    "#         lr=lr,\n",
    "#         lr_gamma=lr_gamma,\n",
    "#         board_name=board_name\n",
    "#     )\n",
    "#     run(\n",
    "#         args=[\n",
    "#             'jupyter', 'nbconvert',\n",
    "#             '--ExecutePreprocessor.timeout=6000',\n",
    "#             '--to=notebook',\n",
    "#             '--execute', 'main.ipynb'\n",
    "#         ],\n",
    "#         env=env\n",
    "#     )"
   ]
  },
  {
   "cell_type": "code",
   "execution_count": null,
   "metadata": {},
   "outputs": [],
   "source": []
  }
 ],
 "metadata": {
  "kernelspec": {
   "display_name": "Python 3",
   "language": "python",
   "name": "python3"
  },
  "language_info": {
   "codemirror_mode": {
    "name": "ipython",
    "version": 3
   },
   "file_extension": ".py",
   "mimetype": "text/x-python",
   "name": "python",
   "nbconvert_exporter": "python",
   "pygments_lexer": "ipython3",
   "version": "3.6.9"
  }
 },
 "nbformat": 4,
 "nbformat_minor": 4
}
