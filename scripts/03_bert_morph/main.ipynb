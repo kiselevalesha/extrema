{
 "cells": [
  {
   "cell_type": "code",
   "execution_count": null,
   "metadata": {},
   "outputs": [],
   "source": [
    "%run main.py\n",
    "%load_ext autoreload\n",
    "%autoreload 2\n",
    "\n",
    "!mkdir -p {DATA_DIR} {BERT_DIR} {MODEL_DIR}\n",
    "s3 = S3()"
   ]
  },
  {
   "cell_type": "code",
   "execution_count": null,
   "metadata": {},
   "outputs": [],
   "source": [
    "if not exists(NEWS):\n",
    "    s3.download(S3_NEWS, NEWS)\n",
    "    s3.download(S3_FICTION, FICTION)"
   ]
  },
  {
   "cell_type": "code",
   "execution_count": null,
   "metadata": {},
   "outputs": [],
   "source": [
    "if not exists(BERT_VOCAB):\n",
    "    s3.download(S3_BERT_VOCAB, BERT_VOCAB)\n",
    "    s3.download(S3_BERT_EMB, BERT_EMB)\n",
    "    s3.download(S3_BERT_ENCODER, BERT_ENCODER)"
   ]
  },
  {
   "cell_type": "code",
   "execution_count": null,
   "metadata": {},
   "outputs": [],
   "source": [
    "words_vocab = BERTVocab.load(BERT_VOCAB)"
   ]
  },
  {
   "cell_type": "code",
   "execution_count": null,
   "metadata": {},
   "outputs": [],
   "source": [
    "markups = {}\n",
    "for path, name in [(NEWS, TEST), (FICTION, TRAIN)]:\n",
    "    lines = load_gz_lines(path)\n",
    "    items = parse_jl(lines)\n",
    "    items = log_progress(items, desc=path)\n",
    "    records = []\n",
    "    for item in items:\n",
    "        record = MorphMarkup.from_json(item)\n",
    "        records.append(record)\n",
    "    markups[name] = records\n",
    "\n",
    "tags = set()\n",
    "for name in [TEST, TRAIN]:\n",
    "    for markup in markups[name]:\n",
    "        for token in markup.tokens:\n",
    "            tags.add(token.tag)\n",
    "            \n",
    "tags = [PAD] + sorted(tags)\n",
    "tags_vocab = Vocab(tags)"
   ]
  },
  {
   "cell_type": "code",
   "execution_count": null,
   "metadata": {},
   "outputs": [],
   "source": [
    "torch.manual_seed(SEED)\n",
    "seed(SEED)"
   ]
  },
  {
   "cell_type": "code",
   "execution_count": null,
   "metadata": {},
   "outputs": [],
   "source": [
    "config = RuBERTConfig()\n",
    "emb = BERTEmbedding.from_config(config)\n",
    "encoder = BERTEncoder.from_config(config)\n",
    "morph = BERTMorphHead(config.emb_dim, len(tags_vocab))\n",
    "model = BERTMorph(emb, encoder, morph)\n",
    "\n",
    "for param in emb.parameters():\n",
    "    param.requires_grad = False\n",
    "\n",
    "model.emb.load(BERT_EMB)\n",
    "model.encoder.load(BERT_ENCODER)\n",
    "model = model.to(DEVICE)\n",
    "\n",
    "criterion = masked_flatten_cross_entropy"
   ]
  },
  {
   "cell_type": "code",
   "execution_count": null,
   "metadata": {},
   "outputs": [],
   "source": [
    "encode = BERTMorphTrainEncoder(\n",
    "    words_vocab, tags_vocab,\n",
    "    seq_len=128,\n",
    "    batch_size=32,\n",
    "    shuffle_size=10000\n",
    ")\n",
    "\n",
    "batches = {}\n",
    "for name in [TEST, TRAIN]:\n",
    "    batches[name] = [_.to(DEVICE) for _ in encode(markups[name])]"
   ]
  },
  {
   "cell_type": "code",
   "execution_count": null,
   "metadata": {},
   "outputs": [],
   "source": [
    "board = MultiBoard([\n",
    "    TensorBoard(BOARD_NAME, RUNS_DIR),\n",
    "    LogBoard()\n",
    "])\n",
    "boards = {\n",
    "    TRAIN: board.section(TRAIN_BOARD),\n",
    "    TEST: board.section(TEST_BOARD),\n",
    "}"
   ]
  },
  {
   "cell_type": "code",
   "execution_count": null,
   "metadata": {},
   "outputs": [],
   "source": [
    "optimizer = optim.Adam([\n",
    "    dict(params=encoder.parameters(), lr=BERT_LR),\n",
    "    dict(params=morph.parameters(), lr=LR),\n",
    "])\n",
    "scheduler = optim.lr_scheduler.ExponentialLR(optimizer, LR_GAMMA)"
   ]
  },
  {
   "cell_type": "code",
   "execution_count": null,
   "metadata": {},
   "outputs": [],
   "source": [
    "meters = {\n",
    "    TRAIN: MorphScoreMeter(),\n",
    "    TEST: MorphScoreMeter()\n",
    "}\n",
    "\n",
    "for epoch in log_progress(range(EPOCHS)):\n",
    "    model.train()\n",
    "    for batch in log_progress(batches[TRAIN], leave=False):\n",
    "        optimizer.zero_grad()\n",
    "        batch = process_batch(model, criterion, batch)\n",
    "        batch.loss.backward()\n",
    "        optimizer.step()\n",
    "    \n",
    "        score = score_morph_batch(batch)\n",
    "        meters[TRAIN].add(score)\n",
    "\n",
    "    meters[TRAIN].write(boards[TRAIN])\n",
    "    meters[TRAIN].reset()\n",
    "\n",
    "    model.eval()\n",
    "    with torch.no_grad():\n",
    "        for batch in log_progress(batches[TEST], leave=False, desc=TEST):\n",
    "            batch = process_batch(model, criterion, batch)\n",
    "            score = score_morph_batch(batch)\n",
    "            meters[TEST].add(score)\n",
    "        meters[TEST].write(boards[TEST])\n",
    "        meters[TEST].reset()\n",
    "    \n",
    "    scheduler.step()\n",
    "    board.step()"
   ]
  },
  {
   "cell_type": "code",
   "execution_count": null,
   "metadata": {},
   "outputs": [],
   "source": [
    "# [2020-03-31 14:26:22]    0 0.3800 01_train/01_loss\n",
    "# [2020-03-31 14:26:22]    0 0.9177 01_train/02_acc\n",
    "# [2020-03-31 14:26:22]    0 0.4991 02_test/01_loss\n",
    "# [2020-03-31 14:26:22]    0 0.9356 02_test/02_acc\n",
    "# [2020-03-31 14:27:44]    1 0.0919 01_train/01_loss\n",
    "# [2020-03-31 14:27:44]    1 0.9740 01_train/02_acc\n",
    "# [2020-03-31 14:27:44]    1 0.5095 02_test/01_loss\n",
    "# [2020-03-31 14:27:44]    1 0.9388 02_test/02_acc\n",
    "# [2020-03-31 14:29:06]    2 0.0655 01_train/01_loss\n",
    "# [2020-03-31 14:29:06]    2 0.9808 01_train/02_acc\n",
    "# [2020-03-31 14:29:06]    2 0.5176 02_test/01_loss\n",
    "# [2020-03-31 14:29:06]    2 0.9429 02_test/02_acc\n",
    "# [2020-03-31 14:30:28]    3 0.0463 01_train/01_loss\n",
    "# [2020-03-31 14:30:28]    3 0.9861 01_train/02_acc\n",
    "# [2020-03-31 14:30:28]    3 0.5389 02_test/01_loss\n",
    "# [2020-03-31 14:30:28]    3 0.9423 02_test/02_acc\n",
    "# [2020-03-31 14:31:50]    4 0.0344 01_train/01_loss\n",
    "# [2020-03-31 14:31:50]    4 0.9895 01_train/02_acc\n",
    "\n",
    "# [2020-03-31 14:31:50]    4 0.5649 02_test/01_loss\n",
    "# [2020-03-31 14:31:50]    4 0.9416 02_test/02_acc"
   ]
  },
  {
   "cell_type": "code",
   "execution_count": null,
   "metadata": {},
   "outputs": [],
   "source": [
    "# model.encoder.dump(MODEL_ENCODER)\n",
    "# model.morph.dump(MODEL_MORPH)\n",
    "# tags_vocab.dump(TAGS_VOCAB)\n",
    "        \n",
    "# s3.upload(MODEL_ENCODER, S3_MODEL_ENCODER)\n",
    "# s3.upload(MODEL_MORPH, S3_MODEL_MORPH)\n",
    "# s3.upload(TAGS_VOCAB, S3_TAGS_VOCAB)"
   ]
  },
  {
   "cell_type": "code",
   "execution_count": null,
   "metadata": {},
   "outputs": [],
   "source": []
  }
 ],
 "metadata": {
  "kernelspec": {
   "display_name": "Python 3",
   "language": "python",
   "name": "python3"
  },
  "language_info": {
   "codemirror_mode": {
    "name": "ipython",
    "version": 3
   },
   "file_extension": ".py",
   "mimetype": "text/x-python",
   "name": "python",
   "nbconvert_exporter": "python",
   "pygments_lexer": "ipython3",
   "version": "3.6.9"
  }
 },
 "nbformat": 4,
 "nbformat_minor": 4
}
