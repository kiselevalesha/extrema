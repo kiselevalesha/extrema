{
 "cells": [
  {
   "cell_type": "code",
   "execution_count": null,
   "metadata": {},
   "outputs": [],
   "source": [
    "%run main.py\n",
    "%load_ext autoreload\n",
    "%autoreload 2\n",
    "\n",
    "!mkdir -p {NAVEC_DIR} {MODEL_DIR} {PACK_DIR}\n",
    "s3 = S3()"
   ]
  },
  {
   "cell_type": "code",
   "execution_count": null,
   "metadata": {},
   "outputs": [],
   "source": [
    "if not exists(NAVEC):\n",
    "    !wget {NAVEC_URL} -O {NAVEC}\n",
    "    s3.download(S3_MODEL_SHAPE, MODEL_SHAPE)\n",
    "    s3.download(S3_MODEL_ENCODER, MODEL_ENCODER)\n",
    "    s3.download(S3_MODEL_HEAD, MODEL_HEAD)\n",
    "    s3.download(S3_MODEL_REL, MODEL_REL)\n",
    "    s3.download(S3_RELS_VOCAB, RELS_VOCAB)"
   ]
  },
  {
   "cell_type": "code",
   "execution_count": null,
   "metadata": {},
   "outputs": [],
   "source": [
    "navec = Navec.load(NAVEC)\n",
    "\n",
    "words_vocab = Vocab(navec.vocab.words)\n",
    "shapes_vocab = Vocab([PAD] + SHAPES)\n",
    "rels_vocab = Vocab.load(RELS_VOCAB)\n",
    "\n",
    "word = NavecEmbedding(navec)\n",
    "shape = Embedding(\n",
    "    vocab_size=len(shapes_vocab),\n",
    "    dim=SHAPE_DIM,\n",
    "    pad_id=shapes_vocab.pad_id\n",
    ")\n",
    "emb = SyntaxEmbedding(word, shape)\n",
    "encoder = SyntaxEncoder(\n",
    "    input_dim=emb.dim,\n",
    "    layer_dims=LAYER_DIMS,\n",
    "    kernel_size=KERNEL_SIZE,\n",
    ")\n",
    "head = SyntaxHead(\n",
    "    input_dim=encoder.dim,\n",
    "    hidden_dim=encoder.dim // 2,\n",
    ")\n",
    "rel = SyntaxRel(\n",
    "    input_dim=encoder.dim,\n",
    "    hidden_dim=encoder.dim // 2,\n",
    "    rel_dim=len(rels_vocab)\n",
    ")\n",
    "model = Syntax(emb, encoder, head, rel)\n",
    "model.eval()\n",
    "\n",
    "model.emb.shape.load(MODEL_SHAPE)\n",
    "model.encoder.load(MODEL_ENCODER)\n",
    "model.head.load(MODEL_HEAD)\n",
    "model.rel.load(MODEL_REL)"
   ]
  },
  {
   "cell_type": "code",
   "execution_count": null,
   "metadata": {},
   "outputs": [],
   "source": [
    "model = model.to_exec()\n",
    "model = model.strip_navec()\n",
    "arrays, model = model.separate_arrays()"
   ]
  },
  {
   "cell_type": "code",
   "execution_count": null,
   "metadata": {},
   "outputs": [],
   "source": [
    "with DumpPack(PACK) as pack:\n",
    "    meta = Meta(ID)\n",
    "    pack.dump_meta(meta)\n",
    "    \n",
    "    pack.dump_model(model)\n",
    "    pack.dump_arrays(arrays)\n",
    "\n",
    "    pack.dump_vocab(words_vocab, WORD)\n",
    "    pack.dump_vocab(shapes_vocab, SHAPE)\n",
    "    pack.dump_vocab(rels_vocab, REL)"
   ]
  },
  {
   "cell_type": "code",
   "execution_count": null,
   "metadata": {},
   "outputs": [],
   "source": [
    "syntax = api.Syntax.load(PACK)\n",
    "syntax.navec(navec)\n",
    "words = 'Опубликованы новые данные по заражению коронавирусом в Москве'.split()\n",
    "markup = syntax(words)\n",
    "show_syntax_markup(markup)"
   ]
  },
  {
   "cell_type": "code",
   "execution_count": null,
   "metadata": {},
   "outputs": [],
   "source": [
    "s3.upload(PACK, S3_PACK)"
   ]
  },
  {
   "cell_type": "code",
   "execution_count": null,
   "metadata": {},
   "outputs": [],
   "source": []
  }
 ],
 "metadata": {
  "kernelspec": {
   "display_name": "Python 3",
   "language": "python",
   "name": "python3"
  },
  "language_info": {
   "codemirror_mode": {
    "name": "ipython",
    "version": 3
   },
   "file_extension": ".py",
   "mimetype": "text/x-python",
   "name": "python",
   "nbconvert_exporter": "python",
   "pygments_lexer": "ipython3",
   "version": "3.6.9"
  }
 },
 "nbformat": 4,
 "nbformat_minor": 2
}
